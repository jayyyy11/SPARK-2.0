{
 "cells": [
  {
   "cell_type": "code",
   "execution_count": 1,
   "metadata": {},
   "outputs": [
    {
     "name": "stdout",
     "output_type": "stream",
     "text": [
      "Python 3.10.12\n"
     ]
    }
   ],
   "source": [
    "!python --version"
   ]
  },
  {
   "cell_type": "code",
   "execution_count": 2,
   "metadata": {},
   "outputs": [],
   "source": [
    "import os\n",
    "import librosa\n",
    "import numpy as np\n",
    "from sklearn.model_selection import train_test_split\n",
    "from sklearn.ensemble import RandomForestClassifier\n",
    "from sklearn.metrics import accuracy_score\n",
    "from joblib import dump, load"
   ]
  },
  {
   "cell_type": "code",
   "execution_count": 3,
   "metadata": {},
   "outputs": [],
   "source": [
    "import os\n",
    "import numpy as np\n",
    "import librosa\n",
    "from tqdm import tqdm\n",
    "\n",
    "# Function to extract MFCC features from audio\n",
    "def extract_features(file_path):\n",
    "    y, sr = librosa.load(file_path, sr=None)  # Use native sampling rate\n",
    "    mfccs = librosa.feature.mfcc(y=y, sr=sr, n_mfcc=13)\n",
    "    return np.mean(mfccs, axis=1)\n",
    "\n",
    "\n",
    "# Initialize lists to hold data and labels\n",
    "data = []\n",
    "labels = []\n",
    "\n"
   ]
  },
  {
   "cell_type": "code",
   "execution_count": 18,
   "metadata": {},
   "outputs": [
    {
     "name": "stderr",
     "output_type": "stream",
     "text": [
      "Processing speakers:   0%|                                                                       | 0/2 [00:00<?, ?it/s]\n",
      "Processing healthy:   0%|                                                                      | 0/123 [00:00<?, ?it/s]\u001b[A\n",
      "Processing healthy:   2%|█                                                             | 2/123 [00:00<00:08, 13.85it/s]\u001b[A\n",
      "Processing healthy:   6%|███▌                                                          | 7/123 [00:00<00:03, 31.67it/s]\u001b[A\n",
      "Processing healthy:  11%|██████▍                                                      | 13/123 [00:00<00:02, 40.91it/s]\u001b[A\n",
      "Processing healthy:  15%|█████████▍                                                   | 19/123 [00:00<00:02, 46.89it/s]\u001b[A\n",
      "Processing healthy:  20%|███████████▉                                                 | 24/123 [00:00<00:02, 47.75it/s]\u001b[A\n",
      "Processing healthy:  24%|██████████████▉                                              | 30/123 [00:00<00:01, 49.22it/s]\u001b[A\n",
      "Processing healthy:  30%|██████████████████▎                                          | 37/123 [00:00<00:01, 50.72it/s]\u001b[A\n",
      "Processing healthy:  35%|█████████████████████▎                                       | 43/123 [00:00<00:01, 46.84it/s]\u001b[A\n",
      "Processing healthy:  39%|███████████████████████▊                                     | 48/123 [00:01<00:01, 47.36it/s]\u001b[A\n",
      "Processing healthy:  43%|██████████████████████████▎                                  | 53/123 [00:01<00:01, 47.17it/s]\u001b[A\n",
      "Processing healthy:  47%|████████████████████████████▊                                | 58/123 [00:01<00:01, 46.76it/s]\u001b[A\n",
      "Processing healthy:  51%|███████████████████████████████▏                             | 63/123 [00:01<00:01, 45.56it/s]\u001b[A\n",
      "Processing healthy:  55%|█████████████████████████████████▋                           | 68/123 [00:01<00:01, 44.83it/s]\u001b[A\n",
      "Processing healthy:  59%|████████████████████████████████████▏                        | 73/123 [00:01<00:01, 43.94it/s]\u001b[A\n",
      "Processing healthy:  63%|██████████████████████████████████████▋                      | 78/123 [00:01<00:01, 43.72it/s]\u001b[A\n",
      "Processing healthy:  67%|█████████████████████████████████████████▏                   | 83/123 [00:01<00:00, 41.74it/s]\u001b[A\n",
      "Processing healthy:  72%|███████████████████████████████████████████▋                 | 88/123 [00:02<00:00, 40.46it/s]\u001b[A\n",
      "Processing healthy:  76%|██████████████████████████████████████████████               | 93/123 [00:02<00:00, 39.44it/s]\u001b[A\n",
      "Processing healthy:  79%|████████████████████████████████████████████████             | 97/123 [00:02<00:00, 38.78it/s]\u001b[A\n",
      "Processing healthy:  82%|█████████████████████████████████████████████████▎          | 101/123 [00:02<00:00, 36.85it/s]\u001b[A\n",
      "Processing healthy:  85%|███████████████████████████████████████████████████▏        | 105/123 [00:02<00:00, 35.95it/s]\u001b[A\n",
      "Processing healthy:  89%|█████████████████████████████████████████████████████▏      | 109/123 [00:02<00:00, 35.26it/s]\u001b[A\n",
      "Processing healthy:  92%|███████████████████████████████████████████████████████     | 113/123 [00:02<00:00, 33.74it/s]\u001b[A\n",
      "Processing healthy:  95%|█████████████████████████████████████████████████████████   | 117/123 [00:02<00:00, 35.25it/s]\u001b[A\n",
      "Processing healthy: 100%|████████████████████████████████████████████████████████████| 123/123 [00:03<00:00, 40.97it/s]\u001b[A\n",
      "Processing speakers:  50%|███████████████████████████████▌                               | 1/2 [00:03<00:03,  3.01s/it]\n",
      "Processing parkinson:   0%|                                                                    | 0/120 [00:00<?, ?it/s]\u001b[A\n",
      "Processing parkinson:   2%|█▌                                                          | 3/120 [00:00<00:04, 25.23it/s]\u001b[A\n",
      "Processing parkinson:   7%|████                                                        | 8/120 [00:00<00:03, 35.71it/s]\u001b[A\n",
      "Processing parkinson:  12%|██████▉                                                    | 14/120 [00:00<00:02, 43.81it/s]\u001b[A\n",
      "Processing parkinson:  16%|█████████▎                                                 | 19/120 [00:00<00:02, 45.91it/s]\u001b[A\n",
      "Processing parkinson:  20%|███████████▊                                               | 24/120 [00:00<00:02, 45.67it/s]\u001b[A\n",
      "Processing parkinson:  24%|██████████████▎                                            | 29/120 [00:00<00:01, 45.83it/s]\u001b[A\n",
      "Processing parkinson:  28%|████████████████▋                                          | 34/120 [00:00<00:01, 44.86it/s]\u001b[A\n",
      "Processing parkinson:  32%|███████████████████▏                                       | 39/120 [00:01<00:02, 34.17it/s]\u001b[A\n",
      "Processing parkinson:  36%|█████████████████████▏                                     | 43/120 [00:01<00:02, 33.99it/s]\u001b[A\n",
      "Processing parkinson:  40%|███████████████████████▌                                   | 48/120 [00:01<00:01, 37.73it/s]\u001b[A\n",
      "Processing parkinson:  44%|██████████████████████████                                 | 53/120 [00:01<00:01, 38.87it/s]\u001b[A\n",
      "Processing parkinson:  48%|████████████████████████████▌                              | 58/120 [00:01<00:01, 39.45it/s]\u001b[A\n",
      "Processing parkinson:  52%|██████████████████████████████▉                            | 63/120 [00:01<00:01, 34.90it/s]\u001b[A\n",
      "Processing parkinson:  56%|████████████████████████████████▉                          | 67/120 [00:01<00:01, 30.89it/s]\u001b[A\n",
      "Processing parkinson:  60%|███████████████████████████████████▍                       | 72/120 [00:01<00:01, 34.51it/s]\u001b[A\n",
      "Processing parkinson:  64%|█████████████████████████████████████▊                     | 77/120 [00:02<00:01, 36.08it/s]\u001b[A\n",
      "Processing parkinson:  68%|████████████████████████████████████████▎                  | 82/120 [00:02<00:01, 37.34it/s]\u001b[A\n",
      "Processing parkinson:  72%|██████████████████████████████████████████▎                | 86/120 [00:02<00:00, 34.97it/s]\u001b[A\n",
      "Processing parkinson:  75%|████████████████████████████████████████████▎              | 90/120 [00:02<00:00, 36.02it/s]\u001b[A\n",
      "Processing parkinson:  78%|██████████████████████████████████████████████▏            | 94/120 [00:02<00:00, 35.52it/s]\u001b[A\n",
      "Processing parkinson:  82%|████████████████████████████████████████████████▏          | 98/120 [00:02<00:00, 35.26it/s]\u001b[A\n",
      "Processing parkinson:  86%|█████████████████████████████████████████████████▊        | 103/120 [00:02<00:00, 37.50it/s]\u001b[A\n",
      "Processing parkinson:  89%|███████████████████████████████████████████████████▋      | 107/120 [00:02<00:00, 34.76it/s]\u001b[A\n",
      "Processing parkinson:  92%|█████████████████████████████████████████████████████▋    | 111/120 [00:03<00:00, 29.56it/s]\u001b[A\n",
      "Processing parkinson:  96%|███████████████████████████████████████████████████████▌  | 115/120 [00:03<00:00, 30.71it/s]\u001b[A\n",
      "Processing parkinson: 100%|██████████████████████████████████████████████████████████| 120/120 [00:03<00:00, 35.84it/s]\u001b[A\n",
      "Processing speakers: 100%|███████████████████████████████████████████████████████████████| 2/2 [00:06<00:00,  3.19s/it]\n"
     ]
    }
   ],
   "source": [
    "\n",
    "\n",
    "# Function to extract features from audio files\n",
    "def extract_features(file_path):\n",
    "    y, sr = librosa.load(file_path)\n",
    "    mfccs = librosa.feature.mfcc(y=y, sr=sr, n_mfcc=13)\n",
    "    return np.mean(mfccs, axis=1)\n",
    "\n",
    "# Data preparation\n",
    "data_path = \"dataset_audios\"\n",
    "speakers = [\"healthy\",\"parkinson\"]\n",
    "data = []\n",
    "labels = []\n",
    "\n",
    "\n",
    "\n",
    "from tqdm import tqdm\n",
    "\n",
    "for speaker in tqdm(speakers, desc=\"Processing speakers\"):\n",
    "    speaker_path = os.path.join(data_path, speaker)\n",
    "\n",
    "    for filename in tqdm(os.listdir(speaker_path), desc=f\"Processing {speaker}\"):\n",
    "        if filename.endswith(\".wav\"):\n",
    "            file_path = os.path.join(speaker_path, filename)\n",
    "            features = extract_features(file_path)\n",
    "            data.append(features)\n",
    "            labels.append(speaker)\n",
    "\n"
   ]
  },
  {
   "cell_type": "code",
   "execution_count": 19,
   "metadata": {},
   "outputs": [],
   "source": [
    "# Convert lists to numpy arrays\n",
    "X = np.array(data)\n",
    "y = np.array(labels)\n",
    "\n"
   ]
  },
  {
   "cell_type": "code",
   "execution_count": 20,
   "metadata": {},
   "outputs": [],
   "source": [
    "# Split the data into training and testing sets\n",
    "X_train, X_test, y_train, y_test = train_test_split(X, y, test_size=0.20, random_state=42)\n",
    "\n",
    "# Train a machine learning model (Random Forest as an example)\n",
    "\n"
   ]
  },
  {
   "cell_type": "code",
   "execution_count": 21,
   "metadata": {},
   "outputs": [
    {
     "name": "stdout",
     "output_type": "stream",
     "text": [
      "\n",
      "✅ Random Forest Accuracy: 93.88%\n",
      "\n",
      "Classification Report:\n",
      "              precision    recall  f1-score   support\n",
      "\n",
      "     healthy       1.00      0.88      0.94        26\n",
      "   parkinson       0.88      1.00      0.94        23\n",
      "\n",
      "    accuracy                           0.94        49\n",
      "   macro avg       0.94      0.94      0.94        49\n",
      "weighted avg       0.95      0.94      0.94        49\n",
      "\n"
     ]
    },
    {
     "data": {
      "image/png": "[encoded data removed]",
      "text/plain": [
       "<Figure size 600x500 with 2 Axes>"
      ]
     },
     "metadata": {},
     "output_type": "display_data"
    },
    {
     "name": "stdout",
     "output_type": "stream",
     "text": [
      "\n",
      "💾 Model saved successfully as 'audio_rf_model.pkl'\n"
     ]
    }
   ],
   "source": [
    "import numpy as np\n",
    "import os\n",
    "import librosa\n",
    "from sklearn.model_selection import train_test_split\n",
    "from sklearn.ensemble import RandomForestClassifier\n",
    "from sklearn.metrics import accuracy_score, confusion_matrix, classification_report\n",
    "import pickle\n",
    "import seaborn as sns\n",
    "import matplotlib.pyplot as plt\n",
    "\n",
    "# -------------------------------\n",
    "# 1️⃣ Train the Random Forest model\n",
    "# -------------------------------\n",
    "rf_model = RandomForestClassifier(n_estimators=200, random_state=42)\n",
    "rf_model.fit(X_train, y_train)\n",
    "\n",
    "# -------------------------------\n",
    "# 2️⃣ Make predictions\n",
    "# -------------------------------\n",
    "y_pred = rf_model.predict(X_test)\n",
    "\n",
    "# -------------------------------\n",
    "# 3️⃣ Evaluate the model\n",
    "# -------------------------------\n",
    "accuracy = accuracy_score(y_test, y_pred)\n",
    "print(f\"\\n✅ Random Forest Accuracy: {accuracy * 100:.2f}%\")\n",
    "\n",
    "print(\"\\nClassification Report:\")\n",
    "print(classification_report(y_test, y_pred))\n",
    "\n",
    "# Confusion matrix\n",
    "cm = confusion_matrix(y_test, y_pred)\n",
    "plt.figure(figsize=(6, 5))\n",
    "sns.heatmap(cm, annot=True, fmt='d', cmap='Blues', xticklabels=np.unique(y), yticklabels=np.unique(y))\n",
    "plt.title(\"Confusion Matrix\")\n",
    "plt.xlabel(\"Predicted\")\n",
    "plt.ylabel(\"True\")\n",
    "plt.show()\n",
    "\n",
    "# -------------------------------\n",
    "# 4️⃣ Save the trained model\n",
    "# -------------------------------\n",
    "with open(\"audio_rf_model.pkl\", \"wb\") as f:\n",
    "    pickle.dump({\n",
    "        \"model\": rf_model,\n",
    "        \"labels\": np.unique(y)\n",
    "    }, f)\n",
    "\n",
    "print(\"\\n💾 Model saved successfully as 'audio_rf_model.pkl'\")\n"
   ]
  },
  {
   "cell_type": "code",
   "execution_count": 22,
   "metadata": {},
   "outputs": [
    {
     "name": "stdout",
     "output_type": "stream",
     "text": [
      "✅ Model loaded successfully!\n",
      "\n",
      "🎤 Predicted Speaker: parkinson\n"
     ]
    }
   ],
   "source": [
    "import pickle\n",
    "import numpy as np\n",
    "import librosa\n",
    "\n",
    "# ---------- 1️⃣ Load the saved model ----------\n",
    "with open(\"audio_rf_model.pkl\", \"rb\") as f:\n",
    "    saved_data = pickle.load(f)\n",
    "\n",
    "model = saved_data[\"model\"]\n",
    "labels = saved_data[\"labels\"]\n",
    "\n",
    "print(\"✅ Model loaded successfully!\")\n",
    "\n",
    "# ---------- 2️⃣ Define the same feature extraction function ----------\n",
    "def extract_features(file_path):\n",
    "    y, sr = librosa.load(file_path)\n",
    "    mfccs = librosa.feature.mfcc(y=y, sr=sr, n_mfcc=13)\n",
    "    return np.mean(mfccs, axis=1)\n",
    "\n",
    "# ---------- 3️⃣ Load and preprocess the new .mp3 file ----------\n",
    "test_file = \"dataset/A/A 19 - Copy (3).mp3\"   # 🔸 Replace with your file name/path\n",
    "features = extract_features(test_file).reshape(1, -1)\n",
    "\n",
    "# ---------- 4️⃣ Make prediction ----------\n",
    "prediction = model.predict(features)[0]\n",
    "\n",
    "print(f\"\\n🎤 Predicted Speaker: {prediction}\")\n"
   ]
  },
  {
   "cell_type": "code",
   "execution_count": 23,
   "metadata": {},
   "outputs": [
    {
     "name": "stdout",
     "output_type": "stream",
     "text": [
      "\n",
      "✅ Decision Tree Accuracy: 93.88%\n",
      "\n",
      "Classification Report:\n",
      "              precision    recall  f1-score   support\n",
      "\n",
      "     healthy       1.00      0.88      0.94        26\n",
      "   parkinson       0.88      1.00      0.94        23\n",
      "\n",
      "    accuracy                           0.94        49\n",
      "   macro avg       0.94      0.94      0.94        49\n",
      "weighted avg       0.95      0.94      0.94        49\n",
      "\n"
     ]
    },
    {
     "data": {
      "image/png": "[encoded data removed]",
      "text/plain": [
       "<Figure size 600x500 with 2 Axes>"
      ]
     },
     "metadata": {},
     "output_type": "display_data"
    },
    {
     "name": "stdout",
     "output_type": "stream",
     "text": [
      "\n",
      "💾 Model saved successfully as 'audio_dt_model.pkl'\n"
     ]
    }
   ],
   "source": [
    "import numpy as np\n",
    "import os\n",
    "import librosa\n",
    "from sklearn.model_selection import train_test_split\n",
    "from sklearn.tree import DecisionTreeClassifier\n",
    "from sklearn.metrics import accuracy_score, confusion_matrix, classification_report\n",
    "import pickle\n",
    "import seaborn as sns\n",
    "import matplotlib.pyplot as plt\n",
    "\n",
    "# -------------------------------\n",
    "# 1️⃣ Train the Decision Tree model\n",
    "# -------------------------------\n",
    "dt_model = DecisionTreeClassifier(\n",
    "    criterion='entropy',   # or 'gini'\n",
    "    max_depth=None,        # you can set a number (e.g., 10) to avoid overfitting\n",
    "    random_state=42\n",
    ")\n",
    "dt_model.fit(X_train, y_train)\n",
    "\n",
    "# -------------------------------\n",
    "# 2️⃣ Make predictions\n",
    "# -------------------------------\n",
    "y_pred = dt_model.predict(X_test)\n",
    "\n",
    "# -------------------------------\n",
    "# 3️⃣ Evaluate the model\n",
    "# -------------------------------\n",
    "accuracy = accuracy_score(y_test, y_pred)\n",
    "print(f\"\\n✅ Decision Tree Accuracy: {accuracy * 100:.2f}%\")\n",
    "\n",
    "print(\"\\nClassification Report:\")\n",
    "print(classification_report(y_test, y_pred))\n",
    "\n",
    "# Confusion matrix\n",
    "cm = confusion_matrix(y_test, y_pred)\n",
    "plt.figure(figsize=(6, 5))\n",
    "sns.heatmap(cm, annot=True, fmt='d', cmap='Greens', xticklabels=np.unique(y), yticklabels=np.unique(y))\n",
    "plt.title(\"Decision Tree - Confusion Matrix\")\n",
    "plt.xlabel(\"Predicted\")\n",
    "plt.ylabel(\"True\")\n",
    "plt.show()\n",
    "\n",
    "# -------------------------------\n",
    "# 4️⃣ Save the trained model\n",
    "# -------------------------------\n",
    "with open(\"audio_dt_model.pkl\", \"wb\") as f:\n",
    "    pickle.dump({\n",
    "        \"model\": dt_model,\n",
    "        \"labels\": np.unique(y)\n",
    "    }, f)\n",
    "\n",
    "print(\"\\n💾 Model saved successfully as 'audio_dt_model.pkl'\")\n"
   ]
  },
  {
   "cell_type": "code",
   "execution_count": 24,
   "metadata": {},
   "outputs": [
    {
     "name": "stdout",
     "output_type": "stream",
     "text": [
      "\n",
      "✅ SVM Model Accuracy: 73.47%\n",
      "\n",
      "Classification Report:\n",
      "              precision    recall  f1-score   support\n",
      "\n",
      "     healthy       0.71      0.85      0.77        26\n",
      "   parkinson       0.78      0.61      0.68        23\n",
      "\n",
      "    accuracy                           0.73        49\n",
      "   macro avg       0.74      0.73      0.73        49\n",
      "weighted avg       0.74      0.73      0.73        49\n",
      "\n"
     ]
    },
    {
     "data": {
      "image/png": "[encoded data removed]",
      "text/plain": [
       "<Figure size 600x500 with 2 Axes>"
      ]
     },
     "metadata": {},
     "output_type": "display_data"
    },
    {
     "name": "stdout",
     "output_type": "stream",
     "text": [
      "\n",
      "💾 Model saved successfully as 'audio_svc_model.pkl'\n"
     ]
    }
   ],
   "source": [
    "import numpy as np\n",
    "import os\n",
    "import librosa\n",
    "from sklearn.model_selection import train_test_split\n",
    "from sklearn.svm import SVC\n",
    "from sklearn.metrics import accuracy_score, confusion_matrix, classification_report\n",
    "import pickle\n",
    "import seaborn as sns\n",
    "import matplotlib.pyplot as plt\n",
    "\n",
    "# -------------------------------\n",
    "# 1️⃣ Train the SVM (SVC) model\n",
    "# -------------------------------\n",
    "svc_model = SVC(\n",
    "    kernel='rbf',        # Try 'linear', 'poly', or 'rbf'\n",
    "    C=10,                # Regularization parameter\n",
    "    gamma='scale',       # Kernel coefficient\n",
    "    probability=True,    # Enables predict_proba()\n",
    "    random_state=42\n",
    ")\n",
    "svc_model.fit(X_train, y_train)\n",
    "\n",
    "# -------------------------------\n",
    "# 2️⃣ Make predictions\n",
    "# -------------------------------\n",
    "y_pred = svc_model.predict(X_test)\n",
    "\n",
    "# -------------------------------\n",
    "# 3️⃣ Evaluate the model\n",
    "# -------------------------------\n",
    "accuracy = accuracy_score(y_test, y_pred)\n",
    "print(f\"\\n✅ SVM Model Accuracy: {accuracy * 100:.2f}%\")\n",
    "\n",
    "print(\"\\nClassification Report:\")\n",
    "print(classification_report(y_test, y_pred))\n",
    "\n",
    "# Confusion matrix\n",
    "cm = confusion_matrix(y_test, y_pred)\n",
    "plt.figure(figsize=(6, 5))\n",
    "sns.heatmap(cm, annot=True, fmt='d', cmap='Purples', xticklabels=np.unique(y), yticklabels=np.unique(y))\n",
    "plt.title(\"SVM - Confusion Matrix\")\n",
    "plt.xlabel(\"Predicted\")\n",
    "plt.ylabel(\"True\")\n",
    "plt.show()\n",
    "\n",
    "# -------------------------------\n",
    "# 4️⃣ Save the trained model\n",
    "# -------------------------------\n",
    "with open(\"audio_svc_model.pkl\", \"wb\") as f:\n",
    "    pickle.dump({\n",
    "        \"model\": svc_model,\n",
    "        \"labels\": np.unique(y)\n",
    "    }, f)\n",
    "\n",
    "print(\"\\n💾 Model saved successfully as 'audio_svc_model.pkl'\")\n"
   ]
  },
  {
   "cell_type": "code",
   "execution_count": 25,
   "metadata": {},
   "outputs": [
    {
     "name": "stdout",
     "output_type": "stream",
     "text": [
      "\n",
      "✅ KNN Model Accuracy: 63.27%\n",
      "\n",
      "Classification Report:\n",
      "              precision    recall  f1-score   support\n",
      "\n",
      "     healthy       0.65      0.65      0.65        26\n",
      "   parkinson       0.61      0.61      0.61        23\n",
      "\n",
      "    accuracy                           0.63        49\n",
      "   macro avg       0.63      0.63      0.63        49\n",
      "weighted avg       0.63      0.63      0.63        49\n",
      "\n"
     ]
    },
    {
     "data": {
      "image/png": "[encoded data removed]",
      "text/plain": [
       "<Figure size 600x500 with 2 Axes>"
      ]
     },
     "metadata": {},
     "output_type": "display_data"
    },
    {
     "name": "stdout",
     "output_type": "stream",
     "text": [
      "\n",
      "💾 Model saved successfully as 'audio_knn_model.pkl'\n"
     ]
    }
   ],
   "source": [
    "import numpy as np\n",
    "import os\n",
    "import librosa\n",
    "from sklearn.model_selection import train_test_split\n",
    "from sklearn.neighbors import KNeighborsClassifier\n",
    "from sklearn.metrics import accuracy_score, confusion_matrix, classification_report\n",
    "import pickle\n",
    "import seaborn as sns\n",
    "import matplotlib.pyplot as plt\n",
    "\n",
    "# -------------------------------\n",
    "# 1️⃣ Train the KNN model\n",
    "# -------------------------------\n",
    "knn_model = KNeighborsClassifier(\n",
    "    n_neighbors=5,      # You can try 3, 5, 7, etc.\n",
    "    metric='minkowski', # Distance metric (Euclidean by default)\n",
    "    p=2                 # p=2 means Euclidean distance\n",
    ")\n",
    "knn_model.fit(X_train, y_train)\n",
    "\n",
    "# -------------------------------\n",
    "# 2️⃣ Make predictions\n",
    "# -------------------------------\n",
    "y_pred = knn_model.predict(X_test)\n",
    "\n",
    "# -------------------------------\n",
    "# 3️⃣ Evaluate the model\n",
    "# -------------------------------\n",
    "accuracy = accuracy_score(y_test, y_pred)\n",
    "print(f\"\\n✅ KNN Model Accuracy: {accuracy * 100:.2f}%\")\n",
    "\n",
    "print(\"\\nClassification Report:\")\n",
    "print(classification_report(y_test, y_pred))\n",
    "\n",
    "# Confusion matrix\n",
    "cm = confusion_matrix(y_test, y_pred)\n",
    "plt.figure(figsize=(6, 5))\n",
    "sns.heatmap(cm, annot=True, fmt='d', cmap='Oranges', xticklabels=np.unique(y), yticklabels=np.unique(y))\n",
    "plt.title(\"KNN - Confusion Matrix\")\n",
    "plt.xlabel(\"Predicted\")\n",
    "plt.ylabel(\"True\")\n",
    "plt.show()\n",
    "\n",
    "# -------------------------------\n",
    "# 4️⃣ Save the trained model\n",
    "# -------------------------------\n",
    "with open(\"audio_knn_model.pkl\", \"wb\") as f:\n",
    "    pickle.dump({\n",
    "        \"model\": knn_model,\n",
    "        \"labels\": np.unique(y)\n",
    "    }, f)\n",
    "\n",
    "print(\"\\n💾 Model saved successfully as 'audio_knn_model.pkl'\")\n"
   ]
  },
  {
   "cell_type": "code",
   "execution_count": 26,
   "metadata": {},
   "outputs": [
    {
     "name": "stdout",
     "output_type": "stream",
     "text": [
      "\n",
      "✅ XGBoost Model Accuracy: 93.88%\n",
      "\n",
      "Classification Report:\n",
      "              precision    recall  f1-score   support\n",
      "\n",
      "     healthy       1.00      0.88      0.94        26\n",
      "   parkinson       0.88      1.00      0.94        23\n",
      "\n",
      "    accuracy                           0.94        49\n",
      "   macro avg       0.94      0.94      0.94        49\n",
      "weighted avg       0.95      0.94      0.94        49\n",
      "\n"
     ]
    },
    {
     "data": {
      "image/png": "[encoded data removed]",
      "text/plain": [
       "<Figure size 600x500 with 2 Axes>"
      ]
     },
     "metadata": {},
     "output_type": "display_data"
    },
    {
     "name": "stdout",
     "output_type": "stream",
     "text": [
      "\n",
      "💾 Model and label encoder saved successfully as 'audio_xgb_model.pkl'\n"
     ]
    }
   ],
   "source": [
    "import numpy as np\n",
    "import os\n",
    "import librosa\n",
    "from sklearn.model_selection import train_test_split\n",
    "from sklearn.preprocessing import LabelEncoder\n",
    "from xgboost import XGBClassifier\n",
    "from sklearn.metrics import accuracy_score, confusion_matrix, classification_report\n",
    "import pickle\n",
    "import seaborn as sns\n",
    "import matplotlib.pyplot as plt\n",
    "\n",
    "# -------------------------------\n",
    "# 🔹 Encode Labels to Integers\n",
    "# -------------------------------\n",
    "le = LabelEncoder()\n",
    "y_encoded = le.fit_transform(y)   # Converts [\"A\", \"E\", \"N\", \"S\"] → [0, 1, 2, 3]\n",
    "\n",
    "# Split the data\n",
    "X_train, X_test, y_train, y_test = train_test_split(\n",
    "    X, y_encoded, test_size=0.20, random_state=42\n",
    ")\n",
    "\n",
    "# -------------------------------\n",
    "# 1️⃣ Train the XGBoost model\n",
    "# -------------------------------\n",
    "xgb_model = XGBClassifier(\n",
    "    n_estimators=200,\n",
    "    learning_rate=0.05,\n",
    "    max_depth=6,\n",
    "    subsample=0.8,\n",
    "    colsample_bytree=0.8,\n",
    "    random_state=42,\n",
    "    use_label_encoder=False,\n",
    "    eval_metric='mlogloss'\n",
    ")\n",
    "xgb_model.fit(X_train, y_train)\n",
    "\n",
    "# -------------------------------\n",
    "# 2️⃣ Make predictions\n",
    "# -------------------------------\n",
    "y_pred = xgb_model.predict(X_test)\n",
    "\n",
    "# -------------------------------\n",
    "# 3️⃣ Evaluate the model\n",
    "# -------------------------------\n",
    "accuracy = accuracy_score(y_test, y_pred)\n",
    "print(f\"\\n✅ XGBoost Model Accuracy: {accuracy * 100:.2f}%\")\n",
    "\n",
    "print(\"\\nClassification Report:\")\n",
    "print(classification_report(y_test, y_pred, target_names=le.classes_))\n",
    "\n",
    "# Confusion matrix\n",
    "cm = confusion_matrix(y_test, y_pred)\n",
    "plt.figure(figsize=(6, 5))\n",
    "sns.heatmap(cm, annot=True, fmt='d', cmap='coolwarm',\n",
    "            xticklabels=le.classes_, yticklabels=le.classes_)\n",
    "plt.title(\"XGBoost - Confusion Matrix\")\n",
    "plt.xlabel(\"Predicted\")\n",
    "plt.ylabel(\"True\")\n",
    "plt.show()\n",
    "\n",
    "# -------------------------------\n",
    "# 4️⃣ Save the trained model + encoder\n",
    "# -------------------------------\n",
    "with open(\"audio_xgb_model.pkl\", \"wb\") as f:\n",
    "    pickle.dump({\n",
    "        \"model\": xgb_model,\n",
    "        \"label_encoder\": le\n",
    "    }, f)\n",
    "\n",
    "print(\"\\n💾 Model and label encoder saved successfully as 'audio_xgb_model.pkl'\")\n"
   ]
  },
  {
   "cell_type": "code",
   "execution_count": 27,
   "metadata": {},
   "outputs": [
    {
     "name": "stdout",
     "output_type": "stream",
     "text": [
      "\n",
      "✅ Voting Classifier Accuracy: 93.88%\n",
      "\n",
      "Classification Report:\n",
      "              precision    recall  f1-score   support\n",
      "\n",
      "     healthy       1.00      0.88      0.94        26\n",
      "   parkinson       0.88      1.00      0.94        23\n",
      "\n",
      "    accuracy                           0.94        49\n",
      "   macro avg       0.94      0.94      0.94        49\n",
      "weighted avg       0.95      0.94      0.94        49\n",
      "\n"
     ]
    },
    {
     "data": {
      "image/png": "[encoded data removed]",
      "text/plain": [
       "<Figure size 600x500 with 2 Axes>"
      ]
     },
     "metadata": {},
     "output_type": "display_data"
    },
    {
     "name": "stdout",
     "output_type": "stream",
     "text": [
      "\n",
      "💾 Model saved successfully as 'voting_model.pkl'\n"
     ]
    }
   ],
   "source": [
    "import numpy as np\n",
    "import librosa\n",
    "import pickle\n",
    "from sklearn.model_selection import train_test_split\n",
    "from sklearn.ensemble import VotingClassifier, RandomForestClassifier\n",
    "from sklearn.tree import DecisionTreeClassifier\n",
    "from sklearn.svm import SVC\n",
    "from sklearn.preprocessing import LabelEncoder\n",
    "from sklearn.metrics import accuracy_score, confusion_matrix, classification_report\n",
    "import seaborn as sns\n",
    "import matplotlib.pyplot as plt\n",
    "\n",
    "# ----------------- STEP 1: Encode Labels -----------------\n",
    "le = LabelEncoder()\n",
    "y_enc = le.fit_transform(y)\n",
    "\n",
    "# ----------------- STEP 2: Split Data -----------------\n",
    "X_train, X_test, y_train, y_test = train_test_split(X, y_enc, test_size=0.2, random_state=42)\n",
    "\n",
    "# ----------------- STEP 3: Define Models -----------------\n",
    "rf = RandomForestClassifier(n_estimators=200, random_state=42)\n",
    "dt = DecisionTreeClassifier(random_state=42)\n",
    "svc = SVC(probability=True, kernel='rbf', random_state=42)\n",
    "\n",
    "# ----------------- STEP 4: Build Voting Classifier -----------------\n",
    "voting_clf = VotingClassifier(\n",
    "    estimators=[\n",
    "        ('rf', rf),\n",
    "        ('dt', dt),\n",
    "        ('svc', svc)\n",
    "    ],\n",
    "    voting='soft'\n",
    ")\n",
    "\n",
    "# ----------------- STEP 5: Train Model -----------------\n",
    "voting_clf.fit(X_train, y_train)\n",
    "\n",
    "# ----------------- STEP 6: Predictions -----------------\n",
    "y_pred = voting_clf.predict(X_test)\n",
    "\n",
    "# ----------------- STEP 7: Evaluate -----------------\n",
    "accuracy = accuracy_score(y_test, y_pred)\n",
    "print(f\"\\n✅ Voting Classifier Accuracy: {accuracy * 100:.2f}%\")\n",
    "\n",
    "print(\"\\nClassification Report:\")\n",
    "print(classification_report(y_test, y_pred, target_names=le.classes_))\n",
    "\n",
    "cm = confusion_matrix(y_test, y_pred)\n",
    "plt.figure(figsize=(6, 5))\n",
    "sns.heatmap(cm, annot=True, fmt='d', cmap='Blues',\n",
    "            xticklabels=le.classes_, yticklabels=le.classes_)\n",
    "plt.title(\"Confusion Matrix - Voting Classifier\")\n",
    "plt.xlabel(\"Predicted\")\n",
    "plt.ylabel(\"True\")\n",
    "plt.show()\n",
    "\n",
    "# ----------------- STEP 8: Save Model -----------------\n",
    "with open(\"voting_model.pkl\", \"wb\") as f:\n",
    "    pickle.dump({\"model\": voting_clf, \"label_encoder\": le}, f)\n",
    "\n",
    "print(\"\\n💾 Model saved successfully as 'voting_model.pkl'\")\n"
   ]
  },
  {
   "cell_type": "code",
   "execution_count": 28,
   "metadata": {},
   "outputs": [
    {
     "name": "stderr",
     "output_type": "stream",
     "text": [
      "C:\\Users\\HP\\anaconda3\\envs\\leaf_disease\\lib\\site-packages\\sklearn\\linear_model\\_logistic.py:465: ConvergenceWarning: lbfgs failed to converge (status=1):\n",
      "STOP: TOTAL NO. OF ITERATIONS REACHED LIMIT.\n",
      "\n",
      "Increase the number of iterations (max_iter) or scale the data as shown in:\n",
      "    https://scikit-learn.org/stable/modules/preprocessing.html\n",
      "Please also refer to the documentation for alternative solver options:\n",
      "    https://scikit-learn.org/stable/modules/linear_model.html#logistic-regression\n",
      "  n_iter_i = _check_optimize_result(\n"
     ]
    },
    {
     "name": "stdout",
     "output_type": "stream",
     "text": [
      "\n",
      "✅ Stacking Model Accuracy: 93.88%\n",
      "\n",
      "Classification Report:\n",
      "              precision    recall  f1-score   support\n",
      "\n",
      "     healthy       1.00      0.88      0.94        26\n",
      "   parkinson       0.88      1.00      0.94        23\n",
      "\n",
      "    accuracy                           0.94        49\n",
      "   macro avg       0.94      0.94      0.94        49\n",
      "weighted avg       0.95      0.94      0.94        49\n",
      "\n"
     ]
    },
    {
     "data": {
      "image/png": "[encoded data removed]",
      "text/plain": [
       "<Figure size 600x500 with 2 Axes>"
      ]
     },
     "metadata": {},
     "output_type": "display_data"
    },
    {
     "name": "stdout",
     "output_type": "stream",
     "text": [
      "\n",
      "💾 Model saved successfully as 'stacking_model.pkl'\n"
     ]
    }
   ],
   "source": [
    "import numpy as np\n",
    "import librosa\n",
    "import pickle\n",
    "from sklearn.model_selection import train_test_split\n",
    "from sklearn.ensemble import StackingClassifier, RandomForestClassifier\n",
    "from sklearn.tree import DecisionTreeClassifier\n",
    "from sklearn.svm import SVC\n",
    "from sklearn.linear_model import LogisticRegression\n",
    "from sklearn.preprocessing import LabelEncoder\n",
    "from sklearn.metrics import accuracy_score, confusion_matrix, classification_report\n",
    "import seaborn as sns\n",
    "import matplotlib.pyplot as plt\n",
    "\n",
    "# ----------------- STEP 1: Encode Labels -----------------\n",
    "le = LabelEncoder()\n",
    "y_enc = le.fit_transform(y)\n",
    "\n",
    "# ----------------- STEP 2: Split Data -----------------\n",
    "X_train, X_test, y_train, y_test = train_test_split(X, y_enc, test_size=0.2, random_state=42)\n",
    "\n",
    "# ----------------- STEP 3: Define Base Models -----------------\n",
    "rf = RandomForestClassifier(n_estimators=200, random_state=42)\n",
    "dt = DecisionTreeClassifier(random_state=42)\n",
    "svc = SVC(probability=True, kernel='rbf', random_state=42)\n",
    "\n",
    "# ----------------- STEP 4: Define Stacking Classifier -----------------\n",
    "stacking_clf = StackingClassifier(\n",
    "    estimators=[\n",
    "        ('rf', rf),\n",
    "        ('dt', dt),\n",
    "        ('svc', svc)\n",
    "    ],\n",
    "    final_estimator=LogisticRegression(max_iter=1000),\n",
    "    stack_method='predict_proba',\n",
    "    passthrough=True\n",
    ")\n",
    "\n",
    "# ----------------- STEP 5: Train the Stacking Model -----------------\n",
    "stacking_clf.fit(X_train, y_train)\n",
    "\n",
    "# ----------------- STEP 6: Predictions -----------------\n",
    "y_pred = stacking_clf.predict(X_test)\n",
    "\n",
    "# ----------------- STEP 7: Evaluation -----------------\n",
    "accuracy = accuracy_score(y_test, y_pred)\n",
    "print(f\"\\n✅ Stacking Model Accuracy: {accuracy * 100:.2f}%\")\n",
    "\n",
    "print(\"\\nClassification Report:\")\n",
    "print(classification_report(y_test, y_pred, target_names=le.classes_))\n",
    "\n",
    "cm = confusion_matrix(y_test, y_pred)\n",
    "plt.figure(figsize=(6, 5))\n",
    "sns.heatmap(cm, annot=True, fmt='d', cmap='Greens',\n",
    "            xticklabels=le.classes_, yticklabels=le.classes_)\n",
    "plt.title(\"Confusion Matrix - Stacking Hybrid (RF + DT + SVC)\")\n",
    "plt.xlabel(\"Predicted\")\n",
    "plt.ylabel(\"True\")\n",
    "plt.show()\n",
    "\n",
    "# ----------------- STEP 8: Save Model -----------------\n",
    "with open(\"stacking_model.pkl\", \"wb\") as f:\n",
    "    pickle.dump({\n",
    "        \"model\": stacking_clf,\n",
    "        \"label_encoder\": le,\n",
    "        \"feature_columns\": X.shape[1]\n",
    "    }, f)\n",
    "\n",
    "print(\"\\n💾 Model saved successfully as 'stacking_model.pkl'\")\n"
   ]
  },
  {
   "cell_type": "code",
   "execution_count": null,
   "metadata": {},
   "outputs": [],
   "source": []
  },
  {
   "cell_type": "code",
   "execution_count": null,
   "metadata": {},
   "outputs": [],
   "source": []
  }
 ],
 "metadata": {
  "kaggle": {
   "accelerator": "none",
   "dataSources": [
    {
     "datasetId": 4555568,
     "sourceId": 8130934,
     "sourceType": "datasetVersion"
    },
    {
     "datasetId": 4839211,
     "sourceId": 8175376,
     "sourceType": "datasetVersion"
    }
   ],
   "dockerImageVersionId": 30636,
   "isGpuEnabled": false,
   "isInternetEnabled": true,
   "language": "python",
   "sourceType": "notebook"
  },
  "kernelspec": {
   "display_name": "leaf_disease",
   "language": "python",
   "name": "leaf_disease"
  },
  "language_info": {
   "codemirror_mode": {
    "name": "ipython",
    "version": 3
   },
   "file_extension": ".py",
   "mimetype": "text/x-python",
   "name": "python",
   "nbconvert_exporter": "python",
   "pygments_lexer": "ipython3",
   "version": "3.10.12"
  }
 },
 "nbformat": 4,
 "nbformat_minor": 4
}
